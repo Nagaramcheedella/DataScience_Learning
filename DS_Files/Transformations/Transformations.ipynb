{
  "nbformat": 4,
  "nbformat_minor": 0,
  "metadata": {
    "colab": {
      "provenance": []
    },
    "kernelspec": {
      "name": "python3",
      "display_name": "Python 3"
    },
    "language_info": {
      "name": "python"
    }
  },
  "cells": [
    {
      "cell_type": "markdown",
      "source": [
        "# IMPORTING LIBRARIES\n"
      ],
      "metadata": {
        "id": "0cMwjdjYKy05"
      }
    },
    {
      "cell_type": "code",
      "source": [
        "import numpy as np\n",
        "import matplotlib.pyplot as plt"
      ],
      "metadata": {
        "id": "6R0R7t_eKsGw"
      },
      "execution_count": 10,
      "outputs": []
    },
    {
      "cell_type": "markdown",
      "source": [
        "# GENERATING DATA"
      ],
      "metadata": {
        "id": "cMkEeRfNK9f7"
      }
    },
    {
      "cell_type": "code",
      "source": [
        "#make this example reproducible\n",
        "np.random.seed(0)\n",
        "\n",
        "#create beta distributed random variable with 200 values\n",
        "data = np.random.beta(a=4, b=15, size=200)"
      ],
      "metadata": {
        "id": "FbmFDSXbLACH"
      },
      "execution_count": 11,
      "outputs": []
    },
    {
      "cell_type": "code",
      "source": [
        "#create log-transformed data\n",
        "data_log = np.log(data)"
      ],
      "metadata": {
        "id": "FHYeKcB5LFCU"
      },
      "execution_count": 13,
      "outputs": []
    },
    {
      "cell_type": "code",
      "source": [
        "data"
      ],
      "metadata": {
        "colab": {
          "base_uri": "https://localhost:8080/"
        },
        "id": "OdLVhVpA90fa",
        "outputId": "6304f397-67b7-494e-9d87-feb58f1e1872"
      },
      "execution_count": 12,
      "outputs": [
        {
          "output_type": "execute_result",
          "data": {
            "text/plain": [
              "array([0.33500995, 0.43164659, 0.17566018, 0.26024996, 0.2228906 ,\n",
              "       0.34554031, 0.03504304, 0.50466759, 0.26157317, 0.21044716,\n",
              "       0.24923105, 0.16866343, 0.17532034, 0.08950696, 0.11982994,\n",
              "       0.18081162, 0.16231937, 0.20493599, 0.07543357, 0.25705616,\n",
              "       0.26916879, 0.17247234, 0.0917212 , 0.32698623, 0.314534  ,\n",
              "       0.12921298, 0.20024248, 0.1940494 , 0.08477519, 0.19644552,\n",
              "       0.31657696, 0.15031079, 0.2119455 , 0.29025744, 0.17332851,\n",
              "       0.11201222, 0.12394456, 0.12899941, 0.29185698, 0.1881788 ,\n",
              "       0.10121608, 0.13715135, 0.22102443, 0.12584295, 0.10677733,\n",
              "       0.08957373, 0.17843215, 0.26457035, 0.10389428, 0.16076094,\n",
              "       0.23241698, 0.34845572, 0.11502733, 0.09795758, 0.25357618,\n",
              "       0.34056226, 0.14329336, 0.25809673, 0.13342118, 0.15886293,\n",
              "       0.27533797, 0.10460863, 0.21672044, 0.23407856, 0.29516348,\n",
              "       0.18087165, 0.29768723, 0.24729876, 0.2655703 , 0.13791356,\n",
              "       0.26841048, 0.13256181, 0.35455734, 0.28425268, 0.29730019,\n",
              "       0.2302328 , 0.14094266, 0.21158055, 0.29649001, 0.43074146,\n",
              "       0.40392936, 0.34440824, 0.10002591, 0.11674129, 0.27087786,\n",
              "       0.23721773, 0.19876768, 0.08599017, 0.19221339, 0.3168594 ,\n",
              "       0.21060439, 0.18039103, 0.17174188, 0.20357634, 0.24497492,\n",
              "       0.17064327, 0.19366475, 0.19035166, 0.12119428, 0.19160312,\n",
              "       0.2499125 , 0.11153672, 0.17599952, 0.21205096, 0.22975223,\n",
              "       0.22571429, 0.09498789, 0.15670804, 0.13415979, 0.23136143,\n",
              "       0.05683148, 0.2300558 , 0.06954752, 0.33577212, 0.17758659,\n",
              "       0.19597372, 0.27848667, 0.1952228 , 0.19445504, 0.30277658,\n",
              "       0.25682987, 0.23412577, 0.18735608, 0.1896501 , 0.21780328,\n",
              "       0.09254164, 0.22524348, 0.17320777, 0.24620147, 0.19743853,\n",
              "       0.09683505, 0.04853451, 0.20709355, 0.37135564, 0.21999024,\n",
              "       0.45560528, 0.30452311, 0.18735479, 0.23474916, 0.44708295,\n",
              "       0.12443463, 0.30991771, 0.1246356 , 0.21569782, 0.14209185,\n",
              "       0.15908452, 0.10124754, 0.2648486 , 0.03918724, 0.30505484,\n",
              "       0.1857032 , 0.28021639, 0.18602944, 0.34174619, 0.29737154,\n",
              "       0.11064589, 0.12102291, 0.31418482, 0.1365393 , 0.1800013 ,\n",
              "       0.1734851 , 0.17764437, 0.07912322, 0.09551772, 0.16577257,\n",
              "       0.22658571, 0.21325526, 0.17005262, 0.08039206, 0.1120242 ,\n",
              "       0.22686773, 0.21231634, 0.20481391, 0.27870822, 0.2226464 ,\n",
              "       0.19538509, 0.25846685, 0.1219736 , 0.14538475, 0.35035564,\n",
              "       0.29461637, 0.36280431, 0.20006052, 0.20936694, 0.1724385 ,\n",
              "       0.18916538, 0.05894761, 0.08481849, 0.10191006, 0.12000994,\n",
              "       0.28896773, 0.12239041, 0.14288277, 0.20460153, 0.1744171 ,\n",
              "       0.10886934, 0.28412914, 0.12438466, 0.15483958, 0.15260264])"
            ]
          },
          "metadata": {},
          "execution_count": 12
        }
      ]
    },
    {
      "cell_type": "code",
      "source": [
        "data_log"
      ],
      "metadata": {
        "colab": {
          "base_uri": "https://localhost:8080/"
        },
        "id": "_qP82zc7-QD5",
        "outputId": "90548874-a8a6-48e2-be77-b3d8086ecef8"
      },
      "execution_count": 14,
      "outputs": [
        {
          "output_type": "execute_result",
          "data": {
            "text/plain": [
              "array([-1.09359504, -0.84014811, -1.73920393, -1.34611273, -1.50107421,\n",
              "       -1.06264597, -3.3511784 , -0.6838553 , -1.34104122, -1.55852066,\n",
              "       -1.3893749 , -1.77985011, -1.74114046, -2.41343891, -2.12168171,\n",
              "       -1.71029954, -1.81818946, -1.5850576 , -2.58450286, -1.35846068,\n",
              "       -1.31241663, -1.75751842, -2.38900178, -1.11783723, -1.15666309,\n",
              "       -2.04629323, -1.60822624, -1.6396425 , -2.46775237, -1.62737014,\n",
              "       -1.1501889 , -1.89505019, -1.55142611, -1.23698701, -1.75256661,\n",
              "       -2.18914729, -2.08792093, -2.04794748, -1.23149138, -1.67036272,\n",
              "       -2.2904976 , -1.9866702 , -1.50948204, -2.07272059, -2.23700961,\n",
              "       -2.41269316, -1.72354688, -1.32964809, -2.26438144, -1.82783688,\n",
              "       -1.45922219, -1.05424411, -2.16258552, -2.32322075, -1.372091  ,\n",
              "       -1.07715734, -1.94286125, -1.35442084, -2.01424439, -1.83971351,\n",
              "       -1.28975596, -2.25752926, -1.52914703, -1.4520985 , -1.22022592,\n",
              "       -1.7099676 , -1.21171192, -1.39715812, -1.32587568, -1.98112818,\n",
              "       -1.31523782, -2.02070622, -1.03688521, -1.25789172, -1.21301292,\n",
              "       -1.46866432, -1.95940217, -1.55314951, -1.21574176, -0.84224723,\n",
              "       -0.90651527, -1.06592759, -2.30232604, -2.14779498, -1.30608728,\n",
              "       -1.43877686, -1.6156186 , -2.45352233, -1.64914914, -1.14929713,\n",
              "       -1.55777382, -1.71262841, -1.76176262, -1.59171421, -1.40659943,\n",
              "       -1.76818006, -1.6416267 , -1.6588821 , -2.11036038, -1.65232912,\n",
              "       -1.38664444, -2.19340138, -1.737274  , -1.55092865, -1.4707538 ,\n",
              "       -1.48848527, -2.35400592, -1.8533708 , -2.00872372, -1.46377415,\n",
              "       -2.8676649 , -1.46943338, -2.66574504, -1.09132255, -1.72829697,\n",
              "       -1.62977469, -1.2783851 , -1.63361382, -1.6375543 , -1.19476012,\n",
              "       -1.3593414 , -1.45189683, -1.6747443 , -1.66257448, -1.52416299,\n",
              "       -2.38009663, -1.49057331, -1.75326341, -1.4016051 , -1.622328  ,\n",
              "       -2.33474626, -3.02548019, -1.57458465, -0.99059509, -1.51417208,\n",
              "       -0.78612845, -1.18900829, -1.6747512 , -1.44923775, -0.80501113,\n",
              "       -2.08397472, -1.17144847, -2.08236099, -1.53387682, -1.95128161,\n",
              "       -1.83831965, -2.29018686, -1.32859695, -3.23940411, -1.18726372,\n",
              "       -1.6836056 , -1.27219317, -1.68185036, -1.07368694, -1.21277294,\n",
              "       -2.20142036, -2.11177545, -1.15777386, -1.99114278, -1.71479122,\n",
              "       -1.75166357, -1.72797166, -2.53674892, -2.34844346, -1.79713852,\n",
              "       -1.48463199, -1.54526543, -1.77164734, -2.52083985, -2.18904039,\n",
              "       -1.48338814, -1.54967797, -1.58565348, -1.27758986, -1.50217043,\n",
              "       -1.63278285, -1.35298782, -2.10395064, -1.9283716 , -1.04880652,\n",
              "       -1.22208121, -1.01389167, -1.60913536, -1.56366688, -1.75771462,\n",
              "       -1.66513363, -2.83110614, -2.46724176, -2.28366466, -2.12018073,\n",
              "       -1.24144024, -2.1005393 , -1.94573076, -1.58669096, -1.74630571,\n",
              "       -2.21760683, -1.25832644, -2.08437638, -1.86536567, -1.87991786])"
            ]
          },
          "metadata": {},
          "execution_count": 14
        }
      ]
    },
    {
      "cell_type": "code",
      "source": [
        "# for a dataset it will be \n",
        "#data_log = np.log(datatset.iloc[:,1])"
      ],
      "metadata": {
        "id": "pAMfdtYeLldm"
      },
      "execution_count": 9,
      "outputs": []
    },
    {
      "cell_type": "code",
      "source": [
        "#define grid of plots\n",
        "fig, axs = plt.subplots(nrows=1, ncols=2)\n",
        "\n",
        "#create histograms\n",
        "axs[0].hist(data, edgecolor='black')\n",
        "axs[1].hist(data_log, edgecolor='black')\n",
        "\n",
        "#add title to each histogram\n",
        "axs[0].set_title('Original Data')\n",
        "axs[1].set_title('Log-Transformed Data')"
      ],
      "metadata": {
        "colab": {
          "base_uri": "https://localhost:8080/",
          "height": 298
        },
        "id": "-6SRBs6FtzWL",
        "outputId": "f7e9d2bb-e275-4d57-a0b5-05b51cb5942d"
      },
      "execution_count": 15,
      "outputs": [
        {
          "output_type": "execute_result",
          "data": {
            "text/plain": [
              "Text(0.5, 1.0, 'Log-Transformed Data')"
            ]
          },
          "metadata": {},
          "execution_count": 15
        },
        {
          "output_type": "display_data",
          "data": {
            "text/plain": [
              "<Figure size 432x288 with 2 Axes>"
            ],
            "image/png": "[encoded data removed]"
          },
          "metadata": {
            "needs_background": "light"
          }
        }
      ]
    },
    {
      "cell_type": "code",
      "source": [
        "#make this example reproducible\n",
        "np.random.seed(0)\n",
        "\n",
        "#create beta distributed random variable with 200 values\n",
        "data = np.random.beta(a=1, b=5, size=200)\n",
        "\n",
        "#create log-transformed data\n",
        "data_sqrt = np.sqrt(data)\n",
        "\n",
        "#define grid of plots\n",
        "fig, axs = plt.subplots(nrows=1, ncols=2)\n",
        "\n",
        "#create histograms\n",
        "axs[0].hist(data, edgecolor='black')\n",
        "axs[1].hist(data_sqrt, edgecolor='black')\n",
        "\n",
        "#add title to each histogram\n",
        "axs[0].set_title('Original Data')\n",
        "axs[1].set_title('Square Root Transformed Data')"
      ],
      "metadata": {
        "colab": {
          "base_uri": "https://localhost:8080/",
          "height": 298
        },
        "id": "m_g0pxNguEfA",
        "outputId": "eb13b50c-9059-4d5b-cb80-1469f884430f"
      },
      "execution_count": 18,
      "outputs": [
        {
          "output_type": "execute_result",
          "data": {
            "text/plain": [
              "Text(0.5, 1.0, 'Square Root Transformed Data')"
            ]
          },
          "metadata": {},
          "execution_count": 18
        },
        {
          "output_type": "display_data",
          "data": {
            "text/plain": [
              "<Figure size 432x288 with 2 Axes>"
            ],
            "image/png": "[encoded data removed]"
          },
          "metadata": {
            "needs_background": "light"
          }
        }
      ]
    },
    {
      "cell_type": "code",
      "source": [
        "#make this example reproducible\n",
        "np.random.seed(0)\n",
        "\n",
        "#create beta distributed random variable with 200 values\n",
        "data = np.random.beta(a=1, b=5, size=200)\n",
        "\n",
        "#create log-transformed data\n",
        "data_cbrt = np.cbrt(data)\n",
        "\n",
        "#define grid of plots\n",
        "fig, axs = plt.subplots(nrows=1, ncols=2)\n",
        "\n",
        "#create histograms\n",
        "axs[0].hist(data, edgecolor='black')\n",
        "axs[1].hist(data_cbrt, edgecolor='black')\n",
        "\n",
        "#add title to each histogram\n",
        "axs[0].set_title('Original Data')\n",
        "axs[1].set_title('Cube Root Transformed Data')"
      ],
      "metadata": {
        "colab": {
          "base_uri": "https://localhost:8080/",
          "height": 298
        },
        "id": "dARxiUpluFbI",
        "outputId": "8e6f8a49-4208-4da2-adcc-3c31f4ced810"
      },
      "execution_count": 19,
      "outputs": [
        {
          "output_type": "execute_result",
          "data": {
            "text/plain": [
              "Text(0.5, 1.0, 'Cube Root Transformed Data')"
            ]
          },
          "metadata": {},
          "execution_count": 19
        },
        {
          "output_type": "display_data",
          "data": {
            "text/plain": [
              "<Figure size 432x288 with 2 Axes>"
            ],
            "image/png": "[encoded data removed]"
          },
          "metadata": {
            "needs_background": "light"
          }
        }
      ]
    },
    {
      "cell_type": "code",
      "source": [
        "# for a dataset it will be \n",
        "#data_log = np.log(datatset.iloc[:,1])"
      ],
      "metadata": {
        "id": "T1TpXRju_QT1"
      },
      "execution_count": null,
      "outputs": []
    },
    {
      "cell_type": "code",
      "source": [
        "# for a dataset it will be \n",
        "#data_sqrt = np.sqrt(datatset.iloc[:,1])"
      ],
      "metadata": {
        "id": "5hqPoa4T_WYL"
      },
      "execution_count": 20,
      "outputs": []
    },
    {
      "cell_type": "code",
      "source": [
        "# for a dataset it will be \n",
        "#data_cbrt = np.cbrt(datatset.iloc[:,1])"
      ],
      "metadata": {
        "id": "oqm1Nkwm_bZ8"
      },
      "execution_count": null,
      "outputs": []
    }
  ]
}