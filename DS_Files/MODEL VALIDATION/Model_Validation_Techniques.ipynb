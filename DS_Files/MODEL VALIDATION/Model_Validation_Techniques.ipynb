{
  "nbformat": 4,
  "nbformat_minor": 0,
  "metadata": {
    "colab": {
      "name": "Model Validation Techniques.ipynb",
      "provenance": [],
      "collapsed_sections": []
    },
    "kernelspec": {
      "name": "python3",
      "display_name": "Python 3"
    }
  },
  "cells": [
    {
      "cell_type": "markdown",
      "metadata": {
        "id": "taLo6Q7NxKRE"
      },
      "source": [
        "## Model Validation Techniques and Hyper Parameter Tuning"
      ]
    },
    {
      "cell_type": "markdown",
      "metadata": {
        "id": "xQ1Zs9MKxXJ1"
      },
      "source": [
        "## Importing the libraries"
      ]
    },
    {
      "cell_type": "code",
      "metadata": {
        "id": "D3x14CwtxcV5"
      },
      "source": [
        "import numpy as np\n",
        "import matplotlib.pyplot as plt\n",
        "import pandas as pd"
      ],
      "execution_count": 1,
      "outputs": []
    },
    {
      "cell_type": "markdown",
      "metadata": {
        "id": "1L1wq9evxg83"
      },
      "source": [
        "## Importing the dataset"
      ]
    },
    {
      "cell_type": "code",
      "metadata": {
        "id": "TMeZ6FKbxkU6"
      },
      "source": [
        "dataset = pd.read_csv('Social_Network_Ads.csv')\n",
        "X = dataset.iloc[:, :-1].values\n",
        "y = dataset.iloc[:, -1].values"
      ],
      "execution_count": 2,
      "outputs": []
    },
    {
      "cell_type": "markdown",
      "metadata": {
        "id": "i3FBTRwzxzl7"
      },
      "source": [
        "## Splitting the dataset into the Training set and Test set"
      ]
    },
    {
      "cell_type": "code",
      "metadata": {
        "id": "V5TZ-0qSx5mX"
      },
      "source": [
        "from sklearn.model_selection import train_test_split\n",
        "X_train, X_test, y_train, y_test = train_test_split(X, y, test_size = 0.25, random_state = 0)"
      ],
      "execution_count": 3,
      "outputs": []
    },
    {
      "cell_type": "markdown",
      "metadata": {
        "id": "WPt8zMSIxrJ7"
      },
      "source": [
        "## Feature Scaling"
      ]
    },
    {
      "cell_type": "code",
      "metadata": {
        "id": "c60y-wPDxvY-"
      },
      "source": [
        "from sklearn.preprocessing import StandardScaler\n",
        "sc = StandardScaler()\n",
        "X_train = sc.fit_transform(X_train)\n",
        "X_test = sc.transform(X_test)"
      ],
      "execution_count": 4,
      "outputs": []
    },
    {
      "cell_type": "markdown",
      "metadata": {
        "id": "29ry3GSGx9P_"
      },
      "source": [
        "## Training the SVM model on the Training set"
      ]
    },
    {
      "cell_type": "code",
      "metadata": {
        "id": "BUM0MSyGyCjF",
        "outputId": "5daecf3e-c059-4383-e30c-8135d33be6a4",
        "colab": {
          "base_uri": "https://localhost:8080/"
        }
      },
      "source": [
        "from sklearn.svm import SVC\n",
        "classifier = SVC(kernel = 'linear', random_state = 0)\n",
        "classifier.fit(X_train, y_train)"
      ],
      "execution_count": 5,
      "outputs": [
        {
          "output_type": "execute_result",
          "data": {
            "text/plain": [
              "SVC(kernel='linear', random_state=0)"
            ]
          },
          "metadata": {},
          "execution_count": 5
        }
      ]
    },
    {
      "cell_type": "markdown",
      "metadata": {
        "id": "fBbur5RQyTcL"
      },
      "source": [
        "## Making the Confusion Matrix"
      ]
    },
    {
      "cell_type": "code",
      "metadata": {
        "id": "_1llVHNPyWkZ",
        "outputId": "94d5e955-5dc2-45f4-da63-adf2b6ce594b",
        "colab": {
          "base_uri": "https://localhost:8080/"
        }
      },
      "source": [
        "from sklearn.metrics import confusion_matrix, accuracy_score\n",
        "y_pred = classifier.predict(X_test)\n",
        "cm = confusion_matrix(y_test, y_pred)\n",
        "print(cm)\n",
        "accuracy_score(y_test, y_pred)"
      ],
      "execution_count": 6,
      "outputs": [
        {
          "output_type": "stream",
          "name": "stdout",
          "text": [
            "[[66  2]\n",
            " [ 8 24]]\n"
          ]
        },
        {
          "output_type": "execute_result",
          "data": {
            "text/plain": [
              "0.9"
            ]
          },
          "metadata": {},
          "execution_count": 6
        }
      ]
    },
    {
      "cell_type": "markdown",
      "metadata": {
        "id": "U-eGh0nuyabx"
      },
      "source": [
        "## Applying k-Fold Cross Validation"
      ]
    },
    {
      "cell_type": "code",
      "source": [
        "from sklearn.model_selection import KFold\n",
        "num_folds = 10\n",
        "kfold = KFold(n_splits=num_folds)"
      ],
      "metadata": {
        "id": "ZZiBCRidK-IO"
      },
      "execution_count": 10,
      "outputs": []
    },
    {
      "cell_type": "code",
      "metadata": {
        "id": "N5puHSW9ydyi",
        "outputId": "f6e6eb1c-444a-4700-a9b7-48d5136ce424",
        "colab": {
          "base_uri": "https://localhost:8080/"
        }
      },
      "source": [
        "from sklearn.model_selection import cross_val_score\n",
        "accuracies = cross_val_score(estimator = classifier, X = X_test, y = y_test, cv = kfold)\n",
        "print(\"Accuracy: {:.2f} %\".format(accuracies.mean()*100))\n",
        "print(\"Standard Deviation: {:.2f} %\".format(accuracies.std()*100))"
      ],
      "execution_count": 12,
      "outputs": [
        {
          "output_type": "stream",
          "name": "stdout",
          "text": [
            "Accuracy: 89.00 %\n",
            "Standard Deviation: 8.31 %\n"
          ]
        }
      ]
    },
    {
      "cell_type": "code",
      "source": [
        "for i in range(len(accuracies)):\n",
        "  print(\"Accuracy: {:.2f} %\".format(accuracies[i]*100))"
      ],
      "metadata": {
        "colab": {
          "base_uri": "https://localhost:8080/"
        },
        "id": "EuBpXPXoMAQ7",
        "outputId": "99136a0b-e41b-43f0-b66d-bccd81191c95"
      },
      "execution_count": 24,
      "outputs": [
        {
          "output_type": "stream",
          "name": "stdout",
          "text": [
            "Accuracy: 90.00 %\n",
            "Accuracy: 100.00 %\n",
            "Accuracy: 100.00 %\n",
            "Accuracy: 80.00 %\n",
            "Accuracy: 100.00 %\n",
            "Accuracy: 80.00 %\n",
            "Accuracy: 90.00 %\n",
            "Accuracy: 90.00 %\n",
            "Accuracy: 80.00 %\n",
            "Accuracy: 80.00 %\n"
          ]
        }
      ]
    },
    {
      "cell_type": "markdown",
      "source": [
        "## Evaluate using Leave One Out Cross Validation"
      ],
      "metadata": {
        "id": "Ns-HKiH1OPVe"
      }
    },
    {
      "cell_type": "code",
      "source": [
        "from sklearn.model_selection import LeaveOneOut\n",
        "loocv = LeaveOneOut()\n",
        "accuracies = cross_val_score(classifier, X = X_test, y = y_test, cv=loocv)\n",
        "print(\"Accuracy: {:.2f} %\".format(accuracies.mean()*100))\n",
        "print(\"Standard Deviation: {:.2f} %\".format(accuracies.std()*100))"
      ],
      "metadata": {
        "colab": {
          "base_uri": "https://localhost:8080/"
        },
        "id": "BwCY0Xr7OVCx",
        "outputId": "86399f95-2070-4820-a80d-b1a167c9b218"
      },
      "execution_count": 26,
      "outputs": [
        {
          "output_type": "stream",
          "name": "stdout",
          "text": [
            "Accuracy: 86.00 %\n",
            "Standard Deviation: 34.70 %\n"
          ]
        }
      ]
    },
    {
      "cell_type": "code",
      "source": [
        "for i in range(len(accuracies)):\n",
        "  print(\"Accuracy: {:.2f} %\".format(accuracies[i]*100))"
      ],
      "metadata": {
        "colab": {
          "base_uri": "https://localhost:8080/"
        },
        "id": "JRsE6MT3OLbb",
        "outputId": "cc5746dd-1327-4643-92d6-e721c21665a3"
      },
      "execution_count": 27,
      "outputs": [
        {
          "output_type": "stream",
          "name": "stdout",
          "text": [
            "Accuracy: 100.00 %\n",
            "Accuracy: 100.00 %\n",
            "Accuracy: 100.00 %\n",
            "Accuracy: 100.00 %\n",
            "Accuracy: 100.00 %\n",
            "Accuracy: 100.00 %\n",
            "Accuracy: 100.00 %\n",
            "Accuracy: 100.00 %\n",
            "Accuracy: 100.00 %\n",
            "Accuracy: 0.00 %\n",
            "Accuracy: 100.00 %\n",
            "Accuracy: 100.00 %\n",
            "Accuracy: 100.00 %\n",
            "Accuracy: 100.00 %\n",
            "Accuracy: 100.00 %\n",
            "Accuracy: 100.00 %\n",
            "Accuracy: 100.00 %\n",
            "Accuracy: 100.00 %\n",
            "Accuracy: 100.00 %\n",
            "Accuracy: 100.00 %\n",
            "Accuracy: 100.00 %\n",
            "Accuracy: 100.00 %\n",
            "Accuracy: 100.00 %\n",
            "Accuracy: 100.00 %\n",
            "Accuracy: 100.00 %\n",
            "Accuracy: 100.00 %\n",
            "Accuracy: 100.00 %\n",
            "Accuracy: 100.00 %\n",
            "Accuracy: 100.00 %\n",
            "Accuracy: 100.00 %\n",
            "Accuracy: 100.00 %\n",
            "Accuracy: 0.00 %\n",
            "Accuracy: 100.00 %\n",
            "Accuracy: 100.00 %\n",
            "Accuracy: 100.00 %\n",
            "Accuracy: 100.00 %\n",
            "Accuracy: 100.00 %\n",
            "Accuracy: 100.00 %\n",
            "Accuracy: 100.00 %\n",
            "Accuracy: 0.00 %\n",
            "Accuracy: 100.00 %\n",
            "Accuracy: 100.00 %\n",
            "Accuracy: 100.00 %\n",
            "Accuracy: 100.00 %\n",
            "Accuracy: 100.00 %\n",
            "Accuracy: 100.00 %\n",
            "Accuracy: 100.00 %\n",
            "Accuracy: 100.00 %\n",
            "Accuracy: 100.00 %\n",
            "Accuracy: 100.00 %\n",
            "Accuracy: 100.00 %\n",
            "Accuracy: 100.00 %\n",
            "Accuracy: 100.00 %\n",
            "Accuracy: 100.00 %\n",
            "Accuracy: 100.00 %\n",
            "Accuracy: 0.00 %\n",
            "Accuracy: 100.00 %\n",
            "Accuracy: 100.00 %\n",
            "Accuracy: 0.00 %\n",
            "Accuracy: 100.00 %\n",
            "Accuracy: 100.00 %\n",
            "Accuracy: 100.00 %\n",
            "Accuracy: 100.00 %\n",
            "Accuracy: 0.00 %\n",
            "Accuracy: 100.00 %\n",
            "Accuracy: 100.00 %\n",
            "Accuracy: 100.00 %\n",
            "Accuracy: 100.00 %\n",
            "Accuracy: 100.00 %\n",
            "Accuracy: 100.00 %\n",
            "Accuracy: 0.00 %\n",
            "Accuracy: 100.00 %\n",
            "Accuracy: 100.00 %\n",
            "Accuracy: 0.00 %\n",
            "Accuracy: 100.00 %\n",
            "Accuracy: 100.00 %\n",
            "Accuracy: 0.00 %\n",
            "Accuracy: 100.00 %\n",
            "Accuracy: 100.00 %\n",
            "Accuracy: 100.00 %\n",
            "Accuracy: 100.00 %\n",
            "Accuracy: 0.00 %\n",
            "Accuracy: 100.00 %\n",
            "Accuracy: 100.00 %\n",
            "Accuracy: 100.00 %\n",
            "Accuracy: 0.00 %\n",
            "Accuracy: 100.00 %\n",
            "Accuracy: 100.00 %\n",
            "Accuracy: 0.00 %\n",
            "Accuracy: 100.00 %\n",
            "Accuracy: 100.00 %\n",
            "Accuracy: 100.00 %\n",
            "Accuracy: 100.00 %\n",
            "Accuracy: 100.00 %\n",
            "Accuracy: 100.00 %\n",
            "Accuracy: 0.00 %\n",
            "Accuracy: 100.00 %\n",
            "Accuracy: 0.00 %\n",
            "Accuracy: 100.00 %\n",
            "Accuracy: 100.00 %\n"
          ]
        }
      ]
    },
    {
      "cell_type": "code",
      "source": [
        "from sklearn.model_selection import GridSearchCV\n",
        "parameters = [{'C': [0.25, 0.5, 0.75, 1], 'kernel': ['linear']},\n",
        "              {'C': [0.25, 0.5, 0.75, 1], 'kernel': ['rbf'], 'gamma': [0.1, 0.2, 0.3, 0.4, 0.5, 0.6, 0.7, 0.8, 0.9]}]\n",
        "grid_search = GridSearchCV(estimator = classifier,\n",
        "                           param_grid = parameters,\n",
        "                           scoring = 'accuracy',\n",
        "                           cv = 10,\n",
        "                           n_jobs = -1)"
      ],
      "metadata": {
        "id": "bhYnxVWZRxwQ"
      },
      "execution_count": 30,
      "outputs": []
    },
    {
      "cell_type": "code",
      "source": [
        "grid_search.fit(X_test, y_test)\n",
        "best_accuracy = grid_search.best_score_\n",
        "best_parameters = grid_search.best_params_\n",
        "print(\"Best Accuracy: {:.2f} %\".format(best_accuracy*100))\n",
        "print(\"Best Parameters:\", best_parameters)"
      ],
      "metadata": {
        "colab": {
          "base_uri": "https://localhost:8080/"
        },
        "id": "2a4wRmmTf4I3",
        "outputId": "2850b5ac-99c8-4c40-8c9d-cec1a2aa5d09"
      },
      "execution_count": 32,
      "outputs": [
        {
          "output_type": "stream",
          "name": "stdout",
          "text": [
            "Best Accuracy: 92.00 %\n",
            "Best Parameters: {'C': 0.25, 'gamma': 0.7, 'kernel': 'rbf'}\n"
          ]
        }
      ]
    }
  ]
}